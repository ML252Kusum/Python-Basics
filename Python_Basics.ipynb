{
 "cells": [
  {
   "cell_type": "raw",
   "id": "119a4474-b28b-461a-bf9e-012700c6ff5e",
   "metadata": {},
   "source": [
    "<----Print Function: It is a type of function which is used to perform some kind of operation and specially is used to get desirable output----->\n"
   ]
  },
  {
   "cell_type": "code",
   "execution_count": 4,
   "id": "de8b6850-d577-4f96-9f0d-5ddc3a68a9e4",
   "metadata": {},
   "outputs": [
    {
     "name": "stdout",
     "output_type": "stream",
     "text": [
      "Hello World!!!\n"
     ]
    }
   ],
   "source": [
    "print(\"Hello World!!!\")  ## Function always defines in parenthesis"
   ]
  },
  {
   "cell_type": "raw",
   "id": "b4f4d900-76de-436d-9467-06167837a3ab",
   "metadata": {},
   "source": [
    "<-- VARIABLE: variables are the types of containers which is uesed to stored data Or we can say variable defines the location of memory where our \n",
    "is stored---->"
   ]
  },
  {
   "cell_type": "code",
   "execution_count": 14,
   "id": "ce20b4c5-f016-46f5-9065-6dd8e4d871f7",
   "metadata": {},
   "outputs": [
    {
     "name": "stdout",
     "output_type": "stream",
     "text": [
      "Your name is: Kusum and Your age is: 21\n"
     ]
    }
   ],
   "source": [
    "name=\"Kusum\"\n",
    "age=21\n",
    "print(\"Your name is:\",name,\"and Your age is:\",age)"
   ]
  },
  {
   "cell_type": "raw",
   "id": "0a77621a-4f16-4a59-96f0-9c04fa63792e",
   "metadata": {},
   "source": [
    "<----INPUT FUNCTION: This function is used to take an input  from the user------>"
   ]
  },
  {
   "cell_type": "code",
   "execution_count": 3,
   "id": "624b57d4-886a-4f6e-88d0-92887aaa87c9",
   "metadata": {},
   "outputs": [
    {
     "name": "stdin",
     "output_type": "stream",
     "text": [
      "What is your name? Kusum\n"
     ]
    },
    {
     "name": "stdout",
     "output_type": "stream",
     "text": [
      "hello Kusum\n"
     ]
    }
   ],
   "source": [
    "name=input(\"What is your name?\") \n",
    "print(\"hello \"+ name)"
   ]
  },
  {
   "cell_type": "raw",
   "id": "57f677a0-8dec-4a29-88e8-07dcb1e13dc4",
   "metadata": {},
   "source": [
    "<----TYPE CONVERSION: we need type conversion because whenenver we input anything in python all the input comes out in the stringformat whether it was number,string,float,double anything--->\n",
    "\n",
    "old_age=input(\"Enter your old age:\")\n",
    "new_age=old_age + 2\n",
    "print(new_age)"
   ]
  },
  {
   "cell_type": "markdown",
   "id": "4886bd72-eaf9-40d3-811c-d61faa7d9819",
   "metadata": {},
   "source": [
    "so we can see an error is arries becacuse input function consider \"old_age\" as a string and string and integer can not be\n",
    "concatenate with each other. Hence to avoid this problem we should need to use \"type conversion method\".Noe let's see correct code for the same"
   ]
  },
  {
   "cell_type": "code",
   "execution_count": 6,
   "id": "64189584-57cb-497a-9de4-1220ec75a654",
   "metadata": {},
   "outputs": [
    {
     "name": "stdin",
     "output_type": "stream",
     "text": [
      "Enter your old age: 19\n"
     ]
    },
    {
     "name": "stdout",
     "output_type": "stream",
     "text": [
      "21\n"
     ]
    }
   ],
   "source": [
    "old_age=input(\"Enter your old age:\")\n",
    "new_age=int(old_age) + 2\n",
    "print(new_age)"
   ]
  },
  {
   "cell_type": "raw",
   "id": "e01c583d-e8d1-4404-9546-ab19f9827ea3",
   "metadata": {},
   "source": [
    "<---Now calculating  sum of two numbers----->"
   ]
  },
  {
   "cell_type": "code",
   "execution_count": 10,
   "id": "cd998de5-1eec-4e7e-b952-e961e727a884",
   "metadata": {},
   "outputs": [
    {
     "name": "stdin",
     "output_type": "stream",
     "text": [
      "Enter first number:  10\n",
      "Enter second number:  20\n"
     ]
    },
    {
     "name": "stdout",
     "output_type": "stream",
     "text": [
      "Sum of 10 and 20 is : 30\n"
     ]
    }
   ],
   "source": [
    "a=input(\"Enter first number: \")\n",
    "b=input(\"Enter second number: \")\n",
    "sum= int(a) + int(b)\n",
    "print(\"Sum of\",a,\"and\",b,\"is :\",sum)"
   ]
  },
  {
   "cell_type": "raw",
   "id": "85d65465-76bf-458c-8d44-3fa80da6ea6a",
   "metadata": {},
   "source": [
    "<---Similary calculating sum if enter number is float--->"
   ]
  },
  {
   "cell_type": "code",
   "execution_count": 21,
   "id": "8caa69df-0346-47af-a1ee-3ea07936dea5",
   "metadata": {},
   "outputs": [
    {
     "name": "stdin",
     "output_type": "stream",
     "text": [
      "Enter first number:  10.3\n",
      "Enter second number:  10.3\n"
     ]
    },
    {
     "name": "stdout",
     "output_type": "stream",
     "text": [
      "Sum of 10.3 and 10.3 is : 20.6\n"
     ]
    }
   ],
   "source": [
    "a=input(\"Enter first number: \")\n",
    "b=input(\"Enter second number: \")\n",
    "sum= float(a) + float(b)\n",
    "print(\"Sum of\",a,\"and\",b,\"is :\",sum)"
   ]
  },
  {
   "cell_type": "raw",
   "id": "f32bbe42-d748-4e24-8932-2f62ec506c95",
   "metadata": {},
   "source": [
    "<-----STRINGS AND ITS FUNCTION : Strings are the system of characters which is arranged in a systematic way within inverted commas and always \n",
    "get stored into a  define variable------->"
   ]
  },
  {
   "cell_type": "code",
   "execution_count": 28,
   "id": "6c93db32-dcdc-441f-9d4a-071c65fc10b4",
   "metadata": {},
   "outputs": [
    {
     "name": "stdout",
     "output_type": "stream",
     "text": [
      "KUSUM KUMARI\n",
      "kusum kumari\n",
      "Kusum Kumari\n"
     ]
    }
   ],
   "source": [
    "# string upper,lower,title case function\n",
    "\n",
    "name=\"Kusum Kumari\"\n",
    "print(name.upper())\n",
    "print(name.lower())\n",
    "print(name.title())"
   ]
  },
  {
   "cell_type": "code",
   "execution_count": 30,
   "id": "bf3d7cd0-31d8-4e88-a15c-ebecfe1b8f96",
   "metadata": {},
   "outputs": [
    {
     "name": "stdout",
     "output_type": "stream",
     "text": [
      "0\n",
      "2\n",
      "6\n"
     ]
    }
   ],
   "source": [
    "#string find function, which is used to find the location or index number of any letter or substring in the string\n",
    "\n",
    "print(name.find(\"K\"))\n",
    "print(name.find(\"s\"))\n",
    "print(name.find(\"Kumari\"))"
   ]
  },
  {
   "cell_type": "code",
   "execution_count": 33,
   "id": "a6a6770d-b28e-4c34-bc78-0ac5f81ab6ca",
   "metadata": {},
   "outputs": [
    {
     "name": "stdout",
     "output_type": "stream",
     "text": [
      "Kusum Yadav\n"
     ]
    }
   ],
   "source": [
    "# String replace function\n",
    "\n",
    "print(name.replace(\"Kumari\",\"Yadav\"))"
   ]
  },
  {
   "cell_type": "code",
   "execution_count": 37,
   "id": "e301d1c6-efe9-42b5-a536-2fb0cf2ebf49",
   "metadata": {},
   "outputs": [
    {
     "name": "stdout",
     "output_type": "stream",
     "text": [
      "Kusum Kumari\n",
      "True\n",
      "False\n",
      "True\n"
     ]
    }
   ],
   "source": [
    "# String IN Function : Which is used to check that pariticular word or letter is exits in string or not and it will always gives result as true or false\n",
    "print(name)\n",
    "print(\"m\" in name)\n",
    "print(\"z\" in name)\n",
    "print(\"Kumari\" in name)"
   ]
  },
  {
   "cell_type": "raw",
   "id": "dc275b08-ed53-44d9-a837-9bd90aa5f19d",
   "metadata": {},
   "source": [
    "<----OPERATORS IN PYTHON:------->"
   ]
  },
  {
   "cell_type": "code",
   "execution_count": 46,
   "id": "f863a65c-1c35-4a0a-95c0-14fdf3b85355",
   "metadata": {},
   "outputs": [
    {
     "name": "stdout",
     "output_type": "stream",
     "text": [
      "sum of 9 and 10 = 19\n",
      "subtraction of 10 and 9 = 1\n",
      "Multiplication of 10 and 9 = 90\n",
      "Division of 20 and 10 = 2.0\n",
      "Remainder of 20 and 10 = 0\n",
      "Remainder of 20 and 10 = 5\n",
      "5 raise to power 3 = 125\n"
     ]
    }
   ],
   "source": [
    "# Arithmetic operators: +,-,*,/,%,**( these are represnts sum operator,subtract operation, multiplication operator,division operator ,modulus operator and power operator)\n",
    "\n",
    "print(\"sum of 9 and 10 =\",9 + 10)\n",
    "print(\"subtraction of 10 and 9 =\",10 - 9)\n",
    "print(\"Multiplication of 10 and 9 =\",10 * 9)\n",
    "print(\"Division of 20 and 10 =\",20 / 10)\n",
    "print(\"Remainder of 20 and 10 =\",20 % 10)\n",
    "print(\"Remainder of 20 and 10 =\",25 % 10)\n",
    "print(\"5 raise to power 3 =\",5 ** 3)\n"
   ]
  },
  {
   "cell_type": "raw",
   "id": "9ee3d639-29cf-4098-8bc1-1b04d5a10106",
   "metadata": {},
   "source": [
    "<-- operator precedence--->"
   ]
  },
  {
   "cell_type": "code",
   "execution_count": 49,
   "id": "fce1175a-8caf-4a7c-bfcf-f12337665b21",
   "metadata": {},
   "outputs": [
    {
     "name": "stdout",
     "output_type": "stream",
     "text": [
      "result= 26\n"
     ]
    }
   ],
   "source": [
    "result=2+3*8  # precedence of multiply operator is higher than addition operator to first numbers get multiplied than addition would occured.\n",
    "print(\"result=\",result)"
   ]
  },
  {
   "cell_type": "code",
   "execution_count": 50,
   "id": "91431226-61f9-48a0-b278-c1a9a49e95e2",
   "metadata": {},
   "outputs": [
    {
     "name": "stdout",
     "output_type": "stream",
     "text": [
      "result= 40\n"
     ]
    }
   ],
   "source": [
    "result= (2+3)*8 # precedence of parenthesis is higher than multiplication operator so firts bracket will solve then multiplication would performed\n",
    "print(\"result=\",result)"
   ]
  },
  {
   "cell_type": "code",
   "execution_count": 54,
   "id": "681748cb-6af7-42f1-8b47-1ca87f4b6fe7",
   "metadata": {},
   "outputs": [
    {
     "name": "stdout",
     "output_type": "stream",
     "text": [
      "result= 35.0\n"
     ]
    }
   ],
   "source": [
    "result=10/2*(5+2) \n",
    "print(\"result=\",result)"
   ]
  },
  {
   "cell_type": "raw",
   "id": "e6af845a-a860-4d51-a0ef-3b8f8dbb5cf0",
   "metadata": {},
   "source": [
    "<---Comparision Operators: which is used to compare values and gives result in boolean form------->"
   ]
  },
  {
   "cell_type": "code",
   "execution_count": 66,
   "id": "6298a695-e31e-4238-a7c1-487c1e5dde01",
   "metadata": {},
   "outputs": [
    {
     "name": "stdout",
     "output_type": "stream",
     "text": [
      "False : No 3 is not greater than 10\n",
      "True : yes 10 is greater than 9\n",
      "True : yes 10 is equal to 10\n",
      "True : Yes 3 is less than 10\n",
      "True : yes 3 is less than 4\n",
      "True : yes 3 is equal to 3\n"
     ]
    }
   ],
   "source": [
    "# greater than operator\n",
    "print(3>10,\": No 3 is not greater than 10\")\n",
    "\n",
    "# greater than equal to operator\n",
    "print(10>=9,\": yes 10 is greater than 9\")\n",
    "print(10>=10,\": yes 10 is equal to 10\")\n",
    "\n",
    "# less than operator\n",
    "print(3<10,\": Yes 3 is less than 10\")\n",
    "\n",
    "# less than equal to operator\n",
    "print(3<=4,\": yes 3 is less than 4\")\n",
    "print(3<=3,\": yes 3 is equal to 3\")\n"
   ]
  },
  {
   "cell_type": "code",
   "execution_count": 63,
   "id": "149f162c-eff6-48b2-8db1-3c5811df806a",
   "metadata": {},
   "outputs": [
    {
     "name": "stdout",
     "output_type": "stream",
     "text": [
      "False : No 3 is not equal to 10\n",
      "True : yes 3 is not equal to 10\n"
     ]
    }
   ],
   "source": [
    "# Equal to operator\n",
    "print(3==10,\": No 3 is not equal to 10\")\n",
    "\n",
    "# Not equal to operator\n",
    "print(3!=10, \": yes 3 is not equal to 10\")"
   ]
  },
  {
   "cell_type": "code",
   "execution_count": null,
   "id": "e32531ec-4b1a-40df-ac17-648c0d5b3ec3",
   "metadata": {},
   "outputs": [],
   "source": [
    "<----Logical Operators: OR,AND,Not------>"
   ]
  },
  {
   "cell_type": "code",
   "execution_count": 69,
   "id": "da6f2eac-9631-45ee-9df5-df85a2aad796",
   "metadata": {},
   "outputs": [
    {
     "name": "stdout",
     "output_type": "stream",
     "text": [
      "True\n"
     ]
    }
   ],
   "source": [
    "# Or operator,  gives result ture if either one or both condition is true\n",
    "\n",
    "print(2>4 or 2>1)"
   ]
  },
  {
   "cell_type": "code",
   "execution_count": 70,
   "id": "5a41c150-8b77-44ba-aa4b-535e7088c9a5",
   "metadata": {},
   "outputs": [
    {
     "name": "stdout",
     "output_type": "stream",
     "text": [
      "True\n"
     ]
    }
   ],
   "source": [
    "# And operator, gives result ture if both the condition is true\n",
    "\n",
    "print(5>4 and 6>5)"
   ]
  },
  {
   "cell_type": "code",
   "execution_count": 73,
   "id": "ee38c140-af1f-4595-8c76-2876d1837a06",
   "metadata": {},
   "outputs": [
    {
     "name": "stdout",
     "output_type": "stream",
     "text": [
      "False\n"
     ]
    }
   ],
   "source": [
    "# Not operator, makes true as a false and false as a true\n",
    "\n",
    "print(not 5>4)"
   ]
  },
  {
   "cell_type": "markdown",
   "id": "f0ddc8c7-4f53-459d-ae9c-6c3a046b6ea2",
   "metadata": {},
   "source": [
    "<------IF ,ELSE and ELIF STATEMENTS: USE TO PRINT CONDITIONAL STATEMENT------->"
   ]
  },
  {
   "cell_type": "code",
   "execution_count": 74,
   "id": "c880697f-4c15-46e2-afdf-22a425ee3fa1",
   "metadata": {},
   "outputs": [
    {
     "name": "stdout",
     "output_type": "stream",
     "text": [
      "you are an adult and you can give vote\n"
     ]
    }
   ],
   "source": [
    "# method1:  pre-defined input\n",
    "age=19\n",
    "if age>=18:\n",
    "    print(\"You are an adult and You can give vote\")\n",
    "else:\n",
    "    print(\"You are not adult so can not eligible for voting\")"
   ]
  },
  {
   "cell_type": "code",
   "execution_count": 77,
   "id": "b46c83f2-b695-4579-8840-111d5997404b",
   "metadata": {},
   "outputs": [
    {
     "name": "stdin",
     "output_type": "stream",
     "text": [
      "Enter your age: 15\n"
     ]
    },
    {
     "name": "stdout",
     "output_type": "stream",
     "text": [
      "You are not adult so can not eligible for voting\n"
     ]
    }
   ],
   "source": [
    "# method2: user- input\n",
    "\n",
    "age=int(input(\"Enter your age:\"))\n",
    "if age>=18:\n",
    "    print(\"You are an adult and You can give vote\")\n",
    "else:\n",
    "    print(\"You are not adult so can not eligible for voting\")\n"
   ]
  },
  {
   "cell_type": "code",
   "execution_count": 79,
   "id": "75d7cd7d-f89c-4cd4-a2d2-42b380150374",
   "metadata": {},
   "outputs": [
    {
     "name": "stdin",
     "output_type": "stream",
     "text": [
      "Enter your age: 15\n"
     ]
    },
    {
     "name": "stdout",
     "output_type": "stream",
     "text": [
      "Not Eligible\n"
     ]
    }
   ],
   "source": [
    "# elif condition\n",
    "\n",
    "age=int(input(\"Enter your age:\"))\n",
    "if age>=18:\n",
    "    print(\"You are an adult and You can give vote\")\n",
    "elif age<18 and age>3:\n",
    "    print(\"Not Eligible\")\n",
    "else:\n",
    "    print(\"You are not adult so can not eligible for voting\")\n"
   ]
  },
  {
   "cell_type": "raw",
   "id": "ea0fe718-7265-497f-a7c8-d34d383ec0f9",
   "metadata": {},
   "source": [
    "<---- Build Mini-Calculator------>"
   ]
  },
  {
   "cell_type": "code",
   "execution_count": 81,
   "id": "0e573a43-f638-4be8-b2c8-15ec45a8d90c",
   "metadata": {},
   "outputs": [
    {
     "name": "stdin",
     "output_type": "stream",
     "text": [
      "Enter first number: 20\n",
      "Enter operator(+,-,*,/,%): +\n",
      "Enter second number 10\n"
     ]
    },
    {
     "name": "stdout",
     "output_type": "stream",
     "text": [
      "Sum of 20 and 10 is:  30\n"
     ]
    }
   ],
   "source": [
    "a=int(input(\"Enter first number:\"))\n",
    "operator=input(\"Enter operator(+,-,*,/,%):\")\n",
    "b=int(input(\"Enter second number\"))\n",
    "if operator==\"+\":\n",
    "    print(\"Sum of\",a,\"and\",b,\"is: \",a+b)\n",
    "elif operator==\"-\":\n",
    "    print(\"Subtraction of\",a,\"and\",b,\"is: \",a-b)\n",
    "elif operator== \"*\":\n",
    "    print(\"Multiplication of\",a,\"and\",b,\"is: \",a*b)\n",
    "elif operator==\"/\":\n",
    "    print(\"Division of\",a,\"and\",b,\"is: \",a/b)\n",
    "elif operator==\"%\":\n",
    "    print(\"Remainder of\",a,\"and\",b,\"is: \",a%b)\n",
    "else:\n",
    "    print(\"Invalid Operation\")"
   ]
  },
  {
   "cell_type": "raw",
   "id": "18cd2f43-a26b-471d-b5ac-f0afceefa26e",
   "metadata": {},
   "source": [
    "<-----Range in Python: Range function returns the sequeance of numbers---->"
   ]
  },
  {
   "cell_type": "code",
   "execution_count": 83,
   "id": "1bad7e7c-f488-40d0-bd05-e62bd3b37d77",
   "metadata": {},
   "outputs": [
    {
     "name": "stdout",
     "output_type": "stream",
     "text": [
      "range(0, 10)\n"
     ]
    }
   ],
   "source": [
    "num=range(10) # so it will return range in which 10 is not included\n",
    "print(num)"
   ]
  },
  {
   "cell_type": "markdown",
   "id": "1d15d00b-a90a-4e50-89f1-94c65344a6cc",
   "metadata": {},
   "source": [
    "<----Loops in Python----->"
   ]
  },
  {
   "cell_type": "code",
   "execution_count": 84,
   "id": "2459d23b-1ef7-45bb-8328-371d1d8f8900",
   "metadata": {},
   "outputs": [
    {
     "name": "stdout",
     "output_type": "stream",
     "text": [
      "1\n",
      "2\n",
      "3\n",
      "4\n",
      "5\n"
     ]
    }
   ],
   "source": [
    "# While loop: \"Means Jab Tak\": means it will excutes the code untill the condition becomes false\n",
    "\n",
    "i=1\n",
    "while i<=5:\n",
    "    print(i)\n",
    "    i=i+1\n",
    "\n",
    "    "
   ]
  },
  {
   "cell_type": "code",
   "execution_count": 85,
   "id": "5b783f6e-1df7-48ef-8337-963bed4a5a67",
   "metadata": {},
   "outputs": [
    {
     "name": "stdout",
     "output_type": "stream",
     "text": [
      "*\n",
      "**\n",
      "***\n",
      "****\n",
      "*****\n"
     ]
    }
   ],
   "source": [
    "# similary we can tringular print pattern as well by using while loop\n",
    "\n",
    "i=1\n",
    "while i<=5:\n",
    "    print(i* \"*\")\n",
    "    i=i+1"
   ]
  },
  {
   "cell_type": "code",
   "execution_count": 86,
   "id": "f0151ecf-cc64-4785-988b-59b1d6dc2084",
   "metadata": {},
   "outputs": [
    {
     "name": "stdout",
     "output_type": "stream",
     "text": [
      "*****\n",
      "****\n",
      "***\n",
      "**\n",
      "*\n",
      "\n"
     ]
    }
   ],
   "source": [
    "# inverted triangular pattern by using while loop\n",
    "i=5\n",
    "while i>=0:\n",
    "    print(i* \"*\")\n",
    "    i=i-1"
   ]
  },
  {
   "cell_type": "code",
   "execution_count": 87,
   "id": "89039782-bb6e-4d52-bae3-735f991c4172",
   "metadata": {},
   "outputs": [
    {
     "name": "stdout",
     "output_type": "stream",
     "text": [
      "0\n",
      "1\n",
      "2\n",
      "3\n",
      "4\n"
     ]
    }
   ],
   "source": [
    "# For Loop: It is used to executes a list of items or to iterate the sequence of items\n",
    "\n",
    "for i in range(5):\n",
    "    print(i)"
   ]
  },
  {
   "cell_type": "code",
   "execution_count": 93,
   "id": "7bf54fad-6747-474d-becf-a11fbcae5c94",
   "metadata": {},
   "outputs": [
    {
     "name": "stdout",
     "output_type": "stream",
     "text": [
      "\n",
      "*\n",
      "**\n",
      "***\n",
      "****\n",
      "*****\n"
     ]
    }
   ],
   "source": [
    "for i in range(6):\n",
    "    print(i* \"*\")\n"
   ]
  },
  {
   "cell_type": "markdown",
   "id": "a084781c-1681-4ddb-b60b-5e1d0f62e242",
   "metadata": {},
   "source": [
    "<---List in Python: which is a collection of mutable items ---->"
   ]
  },
  {
   "cell_type": "code",
   "execution_count": 94,
   "id": "6f5346ac-2915-41fc-8039-ff9926b8c83e",
   "metadata": {},
   "outputs": [
    {
     "name": "stdout",
     "output_type": "stream",
     "text": [
      "[90, 56, 89, 90]\n"
     ]
    }
   ],
   "source": [
    "marks=[90,56,89,90]\n",
    "print(marks)"
   ]
  },
  {
   "cell_type": "code",
   "execution_count": 98,
   "id": "94ee4d33-fafd-495f-b4df-a82c0b5cff5c",
   "metadata": {},
   "outputs": [
    {
     "name": "stdout",
     "output_type": "stream",
     "text": [
      "items:  [10, 20, 'rishi', 'kusum']\n"
     ]
    }
   ],
   "source": [
    "# List can stored different different datatypes items\n",
    "\n",
    "items=[10,20,\"rishi\",\"kusum\"]\n",
    "print(\"items: \",items)\n"
   ]
  },
  {
   "cell_type": "code",
   "execution_count": 99,
   "id": "919f2a19-52bd-4e5a-96d1-8b7bf137ebbb",
   "metadata": {},
   "outputs": [
    {
     "name": "stdout",
     "output_type": "stream",
     "text": [
      "rishi\n"
     ]
    }
   ],
   "source": [
    "# Accessing items of list through an index number\n",
    "\n",
    "print(items[2])"
   ]
  },
  {
   "cell_type": "code",
   "execution_count": 100,
   "id": "798e1612-514f-4ce2-89fc-255552c83124",
   "metadata": {},
   "outputs": [
    {
     "name": "stdout",
     "output_type": "stream",
     "text": [
      "kusum\n"
     ]
    }
   ],
   "source": [
    "print(items[-1])"
   ]
  },
  {
   "cell_type": "code",
   "execution_count": 105,
   "id": "4c135c9d-d570-4e12-a3e5-1062d3c0c329",
   "metadata": {},
   "outputs": [
    {
     "name": "stdout",
     "output_type": "stream",
     "text": [
      "['rishi', 'kusum']\n",
      "['rishi', 'kusum']\n"
     ]
    }
   ],
   "source": [
    "# creating sublist through indexing\n",
    "\n",
    "print(items[2 :]) # means from index 2 to end index number\n",
    "print(items[2:4]) # means only 2 and 3 index number will included"
   ]
  },
  {
   "cell_type": "code",
   "execution_count": 109,
   "id": "6eae8b22-14fb-48b5-abbd-478b688483cb",
   "metadata": {},
   "outputs": [
    {
     "name": "stdout",
     "output_type": "stream",
     "text": [
      "[10, 20, 'rishi']\n",
      "[10, 20, 'rishi']\n"
     ]
    }
   ],
   "source": [
    "print(items[:3])\n",
    "print(items[0:3])"
   ]
  },
  {
   "cell_type": "code",
   "execution_count": 110,
   "id": "df7b7275-9cc8-4e32-94fc-b1e790da6e1f",
   "metadata": {},
   "outputs": [
    {
     "name": "stdout",
     "output_type": "stream",
     "text": [
      "[95, 98, 97, 100]\n"
     ]
    }
   ],
   "source": [
    "# apppend operation in list: But it will append the item at the last index number of the list\n",
    "\n",
    "marks=[95,98,97]\n",
    "marks.append(100)\n",
    "print(marks)"
   ]
  },
  {
   "cell_type": "code",
   "execution_count": 111,
   "id": "53acb31e-2c85-499b-bef1-59ade645b769",
   "metadata": {},
   "outputs": [
    {
     "name": "stdout",
     "output_type": "stream",
     "text": [
      "[95, 98, 99, 97, 100]\n"
     ]
    }
   ],
   "source": [
    "# insert operation in list: it will insert the item at random index number\n",
    "\n",
    "marks.insert(2,99)\n",
    "print(marks)"
   ]
  },
  {
   "cell_type": "code",
   "execution_count": 112,
   "id": "441c66f7-0010-4a2c-b5c2-429d7773f42f",
   "metadata": {},
   "outputs": [
    {
     "name": "stdout",
     "output_type": "stream",
     "text": [
      "True\n"
     ]
    }
   ],
   "source": [
    "# checking exitence of item in list\n",
    "\n",
    "print(99 in marks)"
   ]
  },
  {
   "cell_type": "code",
   "execution_count": 113,
   "id": "cff1655d-b2ec-4293-8254-3097db54338c",
   "metadata": {},
   "outputs": [
    {
     "name": "stdout",
     "output_type": "stream",
     "text": [
      "5\n"
     ]
    }
   ],
   "source": [
    "# finding the lenght of the list\n",
    "\n",
    "print(len(marks))"
   ]
  },
  {
   "cell_type": "code",
   "execution_count": 114,
   "id": "83d3d70d-098a-4b5c-b421-29196c035c56",
   "metadata": {},
   "outputs": [
    {
     "name": "stdout",
     "output_type": "stream",
     "text": [
      "None\n"
     ]
    }
   ],
   "source": [
    "# clear function is used toempty the list\n",
    "\n",
    "print(marks.clear())"
   ]
  },
  {
   "cell_type": "markdown",
   "id": "1a9e06bf-5fe1-4b99-8700-5a922517f3c7",
   "metadata": {},
   "source": [
    "<---- Break and Continue in Python---->"
   ]
  },
  {
   "cell_type": "code",
   "execution_count": 120,
   "id": "812f5079-755c-45b7-9ec8-a45fe81f14ad",
   "metadata": {},
   "outputs": [
    {
     "name": "stdout",
     "output_type": "stream",
     "text": [
      "kusum\n",
      "rishi\n",
      "charu\n"
     ]
    }
   ],
   "source": [
    "student=[\"kusum\",\"rishi\",\"charu\",\"shyam\",\"ram\"]\n",
    "\n",
    "# now we have to print names from kusum to charu so ;\n",
    "for i in student:\n",
    "    if i==\"shyam\":\n",
    "        break;\n",
    "    print(i)"
   ]
  },
  {
   "cell_type": "code",
   "execution_count": 121,
   "id": "1accd44c-b782-45cc-900d-cf14112ffc3e",
   "metadata": {},
   "outputs": [
    {
     "name": "stdout",
     "output_type": "stream",
     "text": [
      "kusum\n",
      "rishi\n",
      "charu\n",
      "ram\n"
     ]
    }
   ],
   "source": [
    "# if we want to print all names except shyam then:\n",
    "\n",
    "for i in student:\n",
    "    if i==\"shyam\":\n",
    "        continue;\n",
    "    print(i)\n"
   ]
  },
  {
   "cell_type": "markdown",
   "id": "e402f142-c3a4-46ff-aafe-2cc5181b773f",
   "metadata": {},
   "source": [
    "<---Tuple in python: It is like a list but immutable and define in parenthesis---->"
   ]
  },
  {
   "cell_type": "code",
   "execution_count": 128,
   "id": "c01f0798-eef2-461e-831e-bfee29e8c59c",
   "metadata": {},
   "outputs": [
    {
     "name": "stdout",
     "output_type": "stream",
     "text": [
      "(90, 98, 97, 100, 100, 100, 97)\n"
     ]
    }
   ],
   "source": [
    "mark=(90,98,97,100,100,100,97)\n",
    "print(mark)"
   ]
  },
  {
   "cell_type": "code",
   "execution_count": 129,
   "id": "dd87c089-7882-43b6-8898-ecc8d0657420",
   "metadata": {},
   "outputs": [
    {
     "name": "stdout",
     "output_type": "stream",
     "text": [
      "3\n",
      "2\n"
     ]
    }
   ],
   "source": [
    "# On tuple we can perform two operations: count and index\n",
    "print(mark.count(100))\n",
    "print(mark.count(97))\n"
   ]
  },
  {
   "cell_type": "code",
   "execution_count": 131,
   "id": "474864e2-3adf-4bb8-9ff7-adedc0d174a7",
   "metadata": {},
   "outputs": [
    {
     "name": "stdout",
     "output_type": "stream",
     "text": [
      "1\n"
     ]
    }
   ],
   "source": [
    "print(mark.index(98))"
   ]
  },
  {
   "cell_type": "raw",
   "id": "d4a9b6d2-7c3a-41b1-aafb-d7bdc8da6850",
   "metadata": {},
   "source": [
    "<----Sets in Python: Sets are the collection of unique items which is define in curly brackets---->"
   ]
  },
  {
   "cell_type": "code",
   "execution_count": 132,
   "id": "8e03ed38-68f9-4e23-9d5c-3db25d245a4e",
   "metadata": {},
   "outputs": [
    {
     "name": "stdout",
     "output_type": "stream",
     "text": [
      "{97, 90, 100, 98}\n"
     ]
    }
   ],
   "source": [
    "marks= {90,98,97,100,100,100,97}\n",
    "print(marks)\n"
   ]
  },
  {
   "cell_type": "code",
   "execution_count": 133,
   "id": "9c9249b0-2b69-486a-bd49-6e3c663e1460",
   "metadata": {},
   "outputs": [
    {
     "name": "stdout",
     "output_type": "stream",
     "text": [
      "97\n",
      "90\n",
      "100\n",
      "98\n"
     ]
    }
   ],
   "source": [
    "#In sets index no.is not exits,so to access any value from the set we have to use loop.Hence as they don't have any index number so called as unordered. \n",
    "\n",
    "for score in marks:\n",
    "    print(score)"
   ]
  },
  {
   "cell_type": "raw",
   "id": "897dea04-759f-4da8-9eec-35bf2d76e5de",
   "metadata": {},
   "source": [
    "<----Dictionary in Python: It is similar to sets but we store value as key and value pair----->"
   ]
  },
  {
   "cell_type": "code",
   "execution_count": 134,
   "id": "1c588c5b-4427-48b3-a392-1c4315d11f78",
   "metadata": {},
   "outputs": [
    {
     "name": "stdout",
     "output_type": "stream",
     "text": [
      "{'maths': 95, 'english': 90, 'science': 96}\n"
     ]
    }
   ],
   "source": [
    "marks={\"maths\":95,\"english\":90,\"science\":96}\n",
    "print(marks)"
   ]
  },
  {
   "cell_type": "code",
   "execution_count": 135,
   "id": "e6dca868-1264-49ce-9027-6b4490c92557",
   "metadata": {},
   "outputs": [
    {
     "name": "stdout",
     "output_type": "stream",
     "text": [
      "90\n"
     ]
    }
   ],
   "source": [
    "# To access any value from dictionary we have to mentioned their respective key name\n",
    "\n",
    "print(marks[\"english\"])"
   ]
  },
  {
   "cell_type": "code",
   "execution_count": 136,
   "id": "8189612d-2c73-4d36-a1cf-662f6fcf5f01",
   "metadata": {},
   "outputs": [
    {
     "name": "stdout",
     "output_type": "stream",
     "text": [
      "{'maths': 95, 'english': 90, 'science': 96, 'hindi': 97}\n"
     ]
    }
   ],
   "source": [
    "# adding new marks\n",
    "marks[\"hindi\"]=97\n",
    "print(marks)"
   ]
  },
  {
   "cell_type": "code",
   "execution_count": 137,
   "id": "e4932f96-8f15-4cfa-afba-461e57f37ac3",
   "metadata": {},
   "outputs": [
    {
     "name": "stdout",
     "output_type": "stream",
     "text": [
      "{'maths': 95, 'english': 90, 'science': 100, 'hindi': 97}\n"
     ]
    }
   ],
   "source": [
    "#Change existing marks in dictionary\n",
    "\n",
    "marks[\"science\"]=100\n",
    "print(marks)\n",
    "\n"
   ]
  },
  {
   "cell_type": "raw",
   "id": "4e06068d-8207-4ca4-b709-39d5ddf6bac2",
   "metadata": {},
   "source": [
    "Function in Python: Perform specific function\n",
    "1.In-Build Function: Like int(),str(),bool() etc\n",
    "Modulus Function: math etc\n",
    "User-Defined function : function define by the users\n"
   ]
  },
  {
   "cell_type": "code",
   "execution_count": 138,
   "id": "f1f56a65-0f5e-4f73-8cd4-a7e178b6f4d3",
   "metadata": {},
   "outputs": [
    {
     "name": "stdout",
     "output_type": "stream",
     "text": [
      "4.0\n"
     ]
    }
   ],
   "source": [
    "# example of module function\n",
    "\n",
    "from math import sqrt\n",
    "print(sqrt(16))"
   ]
  },
  {
   "cell_type": "raw",
   "id": "afeec3d6-1907-48fd-92b2-d5f24ede0c5e",
   "metadata": {},
   "source": [
    " Example of user defined function\n",
    "syntax:  def function_name(parameters):\n",
    "        //do something\n"
   ]
  },
  {
   "cell_type": "code",
   "execution_count": 142,
   "id": "a387d985-1bc2-43e0-b1f9-77c6bac4afb5",
   "metadata": {},
   "outputs": [
    {
     "name": "stdout",
     "output_type": "stream",
     "text": [
      "3\n",
      "None\n"
     ]
    }
   ],
   "source": [
    "def sum(a,b):\n",
    "    print(a+b)\n",
    "print (sum(1,2))"
   ]
  },
  {
   "cell_type": "code",
   "execution_count": null,
   "id": "b8b2c09e-262f-4da6-a8d9-d4b80f2a6610",
   "metadata": {},
   "outputs": [],
   "source": []
  },
  {
   "cell_type": "code",
   "execution_count": null,
   "id": "a19e38f6-ebe6-49a5-bc08-64299ee84ed2",
   "metadata": {},
   "outputs": [],
   "source": []
  },
  {
   "cell_type": "code",
   "execution_count": null,
   "id": "cae6ea98-1bb5-4b6c-89a9-303df21a2aa0",
   "metadata": {},
   "outputs": [],
   "source": []
  }
 ],
 "metadata": {
  "kernelspec": {
   "display_name": "Python 3 (ipykernel)",
   "language": "python",
   "name": "python3"
  },
  "language_info": {
   "codemirror_mode": {
    "name": "ipython",
    "version": 3
   },
   "file_extension": ".py",
   "mimetype": "text/x-python",
   "name": "python",
   "nbconvert_exporter": "python",
   "pygments_lexer": "ipython3",
   "version": "3.11.7"
  }
 },
 "nbformat": 4,
 "nbformat_minor": 5
}
